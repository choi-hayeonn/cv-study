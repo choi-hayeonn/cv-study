{
 "cells": [
  {
   "cell_type": "markdown",
   "id": "cfb54560",
   "metadata": {},
   "source": [
    "## 09. 히스토그램, 팽창과 침식"
   ]
  },
  {
   "cell_type": "code",
   "execution_count": 2,
   "id": "744fd207",
   "metadata": {},
   "outputs": [],
   "source": [
    "import cv2 as cv\n",
    "import numpy as np\n",
    "# import matplotlib.pyplot as plt\n",
    "\n",
    "PEACH_PATH = \"../images/peach.jpg\"\n",
    "DILATE = \"../images/dilate.jpg\"\n",
    "ERODE = \"../images/erode.jpg\""
   ]
  },
  {
   "cell_type": "markdown",
   "id": "5c46d4ea",
   "metadata": {},
   "source": [
    "### 9-1. 히스토그램"
   ]
  },
  {
   "cell_type": "code",
   "execution_count": null,
   "id": "b9cba8b6",
   "metadata": {},
   "outputs": [],
   "source": [
    "img = cv.imread(PEACH_PATH)\n",
    "\n",
    "b = cv.calcHist([img], [0], None, [256], [0, 256])\n",
    "g = cv.calcHist([img], [1], None, [256], [0, 256])\n",
    "r = cv.calcHist([img], [2], None, [256], [0, 256])\n",
    "\n",
    "plt.plot(b, color=\"b\")\n",
    "plt.plot(g, color=\"g\")\n",
    "plt.plot(r, color=\"r\")\n",
    "plt.title(\"Image Histogram\")\n",
    "plt.xlabel(\"Pixel Value\")\n",
    "plt.ylabel(\"Frequency\")\n",
    "plt.show()"
   ]
  },
  {
   "cell_type": "markdown",
   "id": "c15d05fe",
   "metadata": {},
   "source": [
    "### 9-2. 팽창과 침식, 열림과 닫힘"
   ]
  },
  {
   "cell_type": "markdown",
   "id": "ed7f98e8",
   "metadata": {},
   "source": [
    "#### 팽창\n",
    "- 흰색 영역을 확장하여 검은 영역을 채움"
   ]
  },
  {
   "cell_type": "code",
   "execution_count": null,
   "id": "35503e4d",
   "metadata": {},
   "outputs": [],
   "source": [
    "img = cv.imread(DILATE)\n",
    "\n",
    "kernel = np.ones((3,3), dtype=np.uint8)\n",
    "dilate_1 = cv.dilate(img, kernel, iterations=1)\n",
    "dilate_2 = cv.dilate(img, kernel, iterations=2)\n",
    "dilate_3 = cv.dilate(img, kernel, iterations=3)\n",
    "\n",
    "cv.imshow(\"img\", img)\n",
    "cv.imshow(\"dilate_1\", dilate_1)\n",
    "cv.imshow(\"dilate_2\", dilate_2)\n",
    "cv.imshow(\"dilate_3\", dilate_3)\n",
    "\n",
    "cv.waitKey(0)\n",
    "cv.destroyAllWindows()\n",
    "\n",
    "# 폰트가 점점 두꺼워짐"
   ]
  },
  {
   "cell_type": "code",
   "execution_count": null,
   "id": "08f78d7d",
   "metadata": {},
   "outputs": [],
   "source": [
    "#### 침식\n",
    "- 흰색 영역의 외곽 픽셀을 검은색으로 변경"
   ]
  },
  {
   "cell_type": "code",
   "execution_count": null,
   "id": "f0fadc93",
   "metadata": {},
   "outputs": [],
   "source": [
    "img = cv.imread(ERODE)\n",
    "\n",
    "kernel = np.ones((3,3), dtype=np.uint8)\n",
    "erode_1 = cv.erode(img, kernel, iterations=1)\n",
    "erode_2 = cv.erode(img, kernel, iterations=2)\n",
    "erode_3 = cv.erode(img, kernel, iterations=3)\n",
    "\n",
    "cv.imshow(\"img\", img)\n",
    "cv.imshow(\"erode_1\", erode_1)\n",
    "cv.imshow(\"erode_2\", erode_2)\n",
    "cv.imshow(\"erode_3\", erode_3)\n",
    "\n",
    "cv.waitKey(0)\n",
    "cv.destroyAllWindows()\n",
    "\n",
    "# 폰트가 점점 얇아짐"
   ]
  }
 ],
 "metadata": {
  "kernelspec": {
   "display_name": "cv_study",
   "language": "python",
   "name": "python3"
  },
  "language_info": {
   "codemirror_mode": {
    "name": "ipython",
    "version": 3
   },
   "file_extension": ".py",
   "mimetype": "text/x-python",
   "name": "python",
   "nbconvert_exporter": "python",
   "pygments_lexer": "ipython3",
   "version": "3.13.5"
  }
 },
 "nbformat": 4,
 "nbformat_minor": 5
}
