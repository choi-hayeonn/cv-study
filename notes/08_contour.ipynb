{
 "cells": [
  {
   "cell_type": "markdown",
   "id": "b3744662",
   "metadata": {},
   "source": [
    "## 8. 윤곽선\n",
    "- 운곽선(contour) : 같은 색상(빛의 강도)을 가진 영역의 경계선을 연결한 곡선\n",
    "\n",
    "### 윤곽선 그리는 방법\n",
    "1. 엣지를 찾는다(Thershold/Canny)\n",
    "2. 윤곽선을 생성해서 데이터로 저장(findContous)\n",
    "3. 이미지 위에 윤곽선을 그림(drawContours)"
   ]
  },
  {
   "cell_type": "code",
   "execution_count": 1,
   "id": "b10ceec4",
   "metadata": {},
   "outputs": [],
   "source": [
    "import cv2 as cv\n",
    "\n",
    "SEO_PATH =\"../images/seo.jpg\"\n",
    "CHA_PATH =\"../images/cha.jpg\"\n",
    "PEACH_PATH =\"../images/peach.jpg\""
   ]
  },
  {
   "cell_type": "markdown",
   "id": "e00716be",
   "metadata": {},
   "source": [
    "### 8-1. 윤곽선 검출\n",
    "✅윤곽선 찾기 모드 (Contour Retrieval Mode)\n",
    "- `cv2.RETR_EXTERNAL` : 가장 바깥쪽 윤곽선만 가져옴\n",
    "- `cv2.RETR_LIST` : 모든 윤곽선을 가져오지만, 계층 구조 정보는 무시함\n",
    "- `cv2.RETR_TREE` : 모든 윤곽선을 가져오며, 계층 구조도 포함\n",
    "- `cv2.RETR_CCOMP` : 모든 윤곽선을 2단계 계층 구조로 나눔\n",
    "\n",
    "✅윤곽선 근사화 방법\n",
    " 윤곽선의 점을 얼마나 세밀하게 저장할지 결정\n",
    "- `cv2.CHAIN_APPROX_NONE` : 윤곽선의 모든 점을 저장. 정확하지만 메모리를 더 많이 사용함\n",
    "- `cv2.CHAIN_APPROX_SIMPLE` : 불필요한 중복 점을 제거하여 메모리 사용을 최적화함\n"
   ]
  },
  {
   "cell_type": "code",
   "execution_count": null,
   "id": "c6a66747",
   "metadata": {},
   "outputs": [],
   "source": [
    "img = cv.imread(SEO_PATH)\n",
    "copied = img.copy()\n",
    "\n",
    "# 그레이 스케일로 변환\n",
    "gray = cv.cvtColor(copied, cv.COLOR_BGR2GRAY)\n",
    "\n",
    "# 이진화\n",
    "ret, binary = cv.threshold(gray, -1, 255, cv.THRESH_BINARY | cv.THRESH_OTSU)\n",
    "\n",
    "# 윤곽선 찾기\n",
    "contours, hierachy = cv.findContours(binary, cv.RETR_EXTERNAL, cv.CHAIN_APPROX_NONE)\n",
    "\n",
    "# 윤곽선 그리기\n",
    "cv.drawContours(img, contours, -1, (0,255,0), 2)\n",
    "cv.imshow(\"contours\", img)\n",
    "\n",
    "cv.waitKey(0)\n",
    "cv.destroyAllWindows()"
   ]
  },
  {
   "cell_type": "code",
   "execution_count": 11,
   "id": "0d32b31f",
   "metadata": {},
   "outputs": [],
   "source": [
    "img = cv.imread(PEACH_PATH)\n",
    "copied = img.copy()\n",
    "\n",
    "# 그레이 스케일로 변환\n",
    "gray = cv.cvtColor(copied, cv.COLOR_BGR2GRAY)\n",
    "\n",
    "# 이진화\n",
    "ret, binary = cv.threshold(gray, -1, 255, cv.THRESH_BINARY | cv.THRESH_OTSU)\n",
    "\n",
    "# Canny\n",
    "canny = cv.Canny(gray, 50, 150)\n",
    "\n",
    "# 윤곽선 찾기\n",
    "contours, hierachy = cv.findContours(canny, cv.RETR_LIST, cv.CHAIN_APPROX_NONE)\n",
    "\n",
    "# 윤곽선 그리기\n",
    "cv.drawContours(img, contours, -1, (0,255,0), 2)\n",
    "cv.imshow(\"contours\", img)\n",
    "\n",
    "cv.waitKey(0)\n",
    "cv.destroyAllWindows()"
   ]
  },
  {
   "cell_type": "markdown",
   "id": "b7b53b29",
   "metadata": {},
   "source": [
    "### 8-2. boundingReact\n",
    "- 윤곽선을 둘러싼 사각형"
   ]
  },
  {
   "cell_type": "code",
   "execution_count": 27,
   "id": "987a1fea",
   "metadata": {},
   "outputs": [],
   "source": [
    "img = cv.imread(SEO_PATH)\n",
    "copied = img.copy()\n",
    "\n",
    "gray = cv.cvtColor(copied, cv.COLOR_BGR2GRAY)\n",
    "ret, binary = cv.threshold(gray, -1, 255, cv.THRESH_BINARY | cv.THRESH_OTSU)\n",
    "contours, hierachy = cv.findContours(binary, cv.RETR_EXTERNAL, cv.CHAIN_APPROX_NONE)\n",
    "\n",
    "for contour in contours:\n",
    "    x, y, width, height = cv.boundingRect(contour)\n",
    "    cv.rectangle(img, (x,y), (x+width, y+height), (0,255,0), 2, cv.LINE_AA)\n",
    "\n",
    "cv.imshow(\"Bounding_react\", img)\n",
    "cv.waitKey(0)\n",
    "cv.destroyAllWindows()"
   ]
  },
  {
   "cell_type": "markdown",
   "id": "83b48c99",
   "metadata": {},
   "source": [
    "### 8-3. contourArea\n",
    "- contour의 면적 계산"
   ]
  },
  {
   "cell_type": "code",
   "execution_count": 28,
   "id": "d90a396b",
   "metadata": {},
   "outputs": [],
   "source": [
    "img = cv.imread(SEO_PATH)\n",
    "copied = img.copy()\n",
    "\n",
    "gray = cv.cvtColor(copied, cv.COLOR_BGR2GRAY)\n",
    "ret, binary = cv.threshold(gray, -1, 255, cv.THRESH_BINARY | cv.THRESH_OTSU)\n",
    "contours, hierachy = cv.findContours(binary, cv.RETR_EXTERNAL, cv.CHAIN_APPROX_NONE)\n",
    "\n",
    "for contour in contours:\n",
    "    # contour의 면적이 1000보다 크면\n",
    "    if cv.contourArea(contour) > 1000:\n",
    "        x, y, width, height = cv.boundingRect(contour)\n",
    "        cv.rectangle(img, (x,y), (x+width, y+height), (0,255,0), 2, cv.LINE_AA)\n",
    "\n",
    "cv.imshow(\"Bounding_react\", img)\n",
    "cv.waitKey(0)\n",
    "cv.destroyAllWindows()"
   ]
  },
  {
   "cell_type": "code",
   "execution_count": 4,
   "id": "63670b40",
   "metadata": {},
   "outputs": [],
   "source": [
    "# 실습. 순서대로 박스 표시(강사님 풀이)\n",
    "# 1. 인덱스 트랙바를 만들고\n",
    "# 2. 트랙바의 인덱스 값을 변경하면\n",
    "# 3. 생성된 박스가 순서대로 화면에 띄워지도록 구현하기\n",
    "\n",
    "img = cv.imread(\"../images/vehicles.png\")\n",
    "copied = img.copy()\n",
    "name = \"Vehicles\"\n",
    "cv.namedWindow(name)\n",
    "\n",
    "gray = cv.cvtColor(copied, cv.COLOR_BGR2GRAY)\n",
    "ret, binary = cv.threshold(gray, -1, 255, cv.THRESH_BINARY | cv.THRESH_OTSU)\n",
    "contours, hierarchy = cv.findContours(binary, cv.RETR_EXTERNAL, cv.CHAIN_APPROX_NONE)\n",
    "\n",
    "filtered_contours = []\n",
    "for contour in contours:\n",
    "    if cv.contourArea(contour) > 700:\n",
    "        filtered_contours.append(contour)\n",
    "\n",
    "cv.createTrackbar(\"Index\", name, 0, len(filtered_contours)-1, lambda x:x)\n",
    "\n",
    "while True:\n",
    "    target = img.copy()\n",
    "    index = cv.getTrackbarPos(\"Index\", name)\n",
    "    \n",
    "    x, y, width, height = cv.boundingRect(filtered_contours[index])\n",
    "    cv.rectangle(target, (x,y), (x+width, y+height), (0,255,0), 2, cv.LINE_AA)\n",
    "\n",
    "    cv.imshow(name, target)\n",
    "\n",
    "    if cv.waitKey(1) == ord(\"q\"):\n",
    "        break\n",
    "    \n",
    "cv.destroyAllWindows()\n"
   ]
  },
  {
   "cell_type": "code",
   "execution_count": 3,
   "id": "24ef1a54",
   "metadata": {},
   "outputs": [],
   "source": [
    "# 실습. 순서대로 박스 표시(내 풀이)\n",
    "img = cv.imread(\"../images/vehicles.png\")\n",
    "copied = img.copy()\n",
    "\n",
    "name = \"Contour\"\n",
    "cv.namedWindow(name)\n",
    "\n",
    "trackbar_name = \"bounding_area\"\n",
    "cv.createTrackbar(trackbar_name, name, 0, 22, lambda x: x)\n",
    "\n",
    "contour_list = []\n",
    "\n",
    "gray = cv.cvtColor(copied, cv.COLOR_BGR2GRAY)\n",
    "ret, binary = cv.threshold(gray, -1, 255, cv.THRESH_BINARY | cv.THRESH_OTSU)\n",
    "contours, hierarchy = cv.findContours(binary, cv.RETR_EXTERNAL, cv.CHAIN_APPROX_NONE)\n",
    "\n",
    "for contour in contours:\n",
    "    if cv.contourArea(contour) > 680:\n",
    "        x, y, width, height = cv.boundingRect(contour)\n",
    "        contour_list.append((x, y, width, height))\n",
    "\n",
    "while True:\n",
    "    trackbar_value = cv.getTrackbarPos(trackbar_name, name)\n",
    "    copied_copy = copied.copy()\n",
    "    \n",
    "    if trackbar_value <= len(contour_list):\n",
    "        x, y, width, height = contour_list[trackbar_value]\n",
    "        cv.rectangle(copied_copy, (x, y), (x + width, y + height), (0, 255, 0), 2, cv.LINE_AA)\n",
    "    \n",
    "    cv.imshow(name, copied_copy)\n",
    "    \n",
    "    if cv.waitKey(1) == ord(\"q\"):\n",
    "        break\n",
    "\n",
    "cv.destroyAllWindows()"
   ]
  },
  {
   "cell_type": "code",
   "execution_count": null,
   "id": "51e683b0",
   "metadata": {},
   "outputs": [
    {
     "ename": "error",
     "evalue": "OpenCV(4.12.0) D:\\a\\opencv-python\\opencv-python\\opencv\\modules\\highgui\\src\\window.cpp:973: error: (-215:Assertion failed) size.width>0 && size.height>0 in function 'cv::imshow'\n",
     "output_type": "error",
     "traceback": [
      "\u001b[31m---------------------------------------------------------------------------\u001b[39m",
      "\u001b[31merror\u001b[39m                                     Traceback (most recent call last)",
      "\u001b[36mCell\u001b[39m\u001b[36m \u001b[39m\u001b[32mIn[5]\u001b[39m\u001b[32m, line 31\u001b[39m\n\u001b[32m     28\u001b[39m cv.rectangle(target, (x,y), (x+width, y+height), (\u001b[32m0\u001b[39m,\u001b[32m255\u001b[39m,\u001b[32m0\u001b[39m), \u001b[32m2\u001b[39m, cv.LINE_AA)\n\u001b[32m     30\u001b[39m cv.imshow(name, target)\n\u001b[32m---> \u001b[39m\u001b[32m31\u001b[39m \u001b[43mcv\u001b[49m\u001b[43m.\u001b[49m\u001b[43mimshow\u001b[49m\u001b[43m(\u001b[49m\u001b[33;43mf\u001b[39;49m\u001b[33;43m\"\u001b[39;49m\u001b[33;43mcard\u001b[39;49m\u001b[38;5;132;43;01m{\u001b[39;49;00m\u001b[43mindex\u001b[49m\u001b[43m+\u001b[49m\u001b[32;43m1\u001b[39;49m\u001b[38;5;132;43;01m}\u001b[39;49;00m\u001b[33;43m\"\u001b[39;49m\u001b[43m,\u001b[49m\u001b[43m \u001b[49m\u001b[43mimg\u001b[49m\u001b[43m[\u001b[49m\u001b[43mx\u001b[49m\u001b[43m:\u001b[49m\u001b[43mx\u001b[49m\u001b[43m+\u001b[49m\u001b[43mwidth\u001b[49m\u001b[43m,\u001b[49m\u001b[43m \u001b[49m\u001b[43my\u001b[49m\u001b[43m:\u001b[49m\u001b[43my\u001b[49m\u001b[43m+\u001b[49m\u001b[43mheight\u001b[49m\u001b[43m]\u001b[49m\u001b[43m)\u001b[49m\n\u001b[32m     34\u001b[39m \u001b[38;5;28;01mif\u001b[39;00m cv.waitKey(\u001b[32m1\u001b[39m) == \u001b[38;5;28mord\u001b[39m(\u001b[33m\"\u001b[39m\u001b[33mq\u001b[39m\u001b[33m\"\u001b[39m):\n\u001b[32m     35\u001b[39m     \u001b[38;5;28;01mbreak\u001b[39;00m\n",
      "\u001b[31merror\u001b[39m: OpenCV(4.12.0) D:\\a\\opencv-python\\opencv-python\\opencv\\modules\\highgui\\src\\window.cpp:973: error: (-215:Assertion failed) size.width>0 && size.height>0 in function 'cv::imshow'\n"
     ]
    },
    {
     "ename": "",
     "evalue": "",
     "output_type": "error",
     "traceback": [
      "\u001b[1;31mThe Kernel crashed while executing code in the current cell or a previous cell. \n",
      "\u001b[1;31mPlease review the code in the cell(s) to identify a possible cause of the failure. \n",
      "\u001b[1;31mClick <a href='https://aka.ms/vscodeJupyterKernelCrash'>here</a> for more info. \n",
      "\u001b[1;31mView Jupyter <a href='command:jupyter.viewOutput'>log</a> for further details."
     ]
    }
   ],
   "source": [
    "# 실습. 카드 하나씩 새 창에 표시\n",
    "# 1. 제시된 이미지의 카드를\n",
    "# 2. 하나씩 별도로 새 창에 표시하기\n",
    "\n",
    "img = cv.imread(\"../images/playing_cards.png\")\n",
    "copied = img.copy()\n",
    "name = \"Cards\"\n",
    "cv.namedWindow(name)\n",
    "\n",
    "gray = cv.cvtColor(copied, cv.COLOR_BGR2GRAY)\n",
    "ret, binary = cv.threshold(gray, -1, 255, cv.THRESH_BINARY | cv.THRESH_OTSU)\n",
    "contours, hierarchy = cv.findContours(binary, cv.RETR_EXTERNAL, cv.CHAIN_APPROX_NONE)\n",
    "\n",
    "filtered_contours = []\n",
    "for contour in contours:\n",
    "    if cv.contourArea(contour) > 1000:\n",
    "        filtered_contours.append(contour)\n",
    "\n",
    "cv.createTrackbar(\"Index\", name, 0, len(filtered_contours)-1, lambda x:x)\n",
    "\n",
    "previous_window = None\n",
    "\n",
    "while True:\n",
    "    target = img.copy()\n",
    "    index = cv.getTrackbarPos(\"Index\", name)\n",
    "    \n",
    "    x, y, width, height = cv.boundingRect(filtered_contours[index])\n",
    "    cv.rectangle(target, (x,y), (x+width, y+height), (0,255,0), 2, cv.LINE_AA)\n",
    "    \n",
    "    cv.imshow(name, target)\n",
    "    cv.imshow(f\"card{index+1}\", img[x:x+width, y:y+height])\n",
    "    \n",
    "    \n",
    "    if cv.waitKey(1) == ord(\"q\"):\n",
    "        break\n",
    "\n",
    "cv.destroyAllWindows()"
   ]
  }
 ],
 "metadata": {
  "kernelspec": {
   "display_name": "cv_study",
   "language": "python",
   "name": "python3"
  },
  "language_info": {
   "codemirror_mode": {
    "name": "ipython",
    "version": 3
   },
   "file_extension": ".py",
   "mimetype": "text/x-python",
   "name": "python",
   "nbconvert_exporter": "python",
   "pygments_lexer": "ipython3",
   "version": "3.13.5"
  }
 },
 "nbformat": 4,
 "nbformat_minor": 5
}
