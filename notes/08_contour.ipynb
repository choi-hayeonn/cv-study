{
 "cells": [
  {
   "cell_type": "markdown",
   "id": "b3744662",
   "metadata": {},
   "source": [
    "## 8. 윤곽선\n",
    "- 운곽선(contour) : 같은 색상(빛의 강도)을 가진 영역의 경계선을 연결한 곡선\n",
    "\n",
    "### 윤곽선 그리는 방법\n",
    "1. 엣지를 찾는다(Thershold/Canny)\n",
    "2. 윤곽선을 생성해서 데이터로 저장(findContous)\n",
    "3. 이미지 위에 윤곽선을 그림(drawContours)"
   ]
  },
  {
   "cell_type": "code",
   "execution_count": 2,
   "id": "b10ceec4",
   "metadata": {},
   "outputs": [],
   "source": [
    "import cv2 as cv\n",
    "\n",
    "SEO_PATH =\"../images/seo.jpg\"\n",
    "CHA_PATH =\"../images/cha.jpg\""
   ]
  },
  {
   "cell_type": "code",
   "execution_count": 11,
   "id": "c6a66747",
   "metadata": {},
   "outputs": [],
   "source": [
    "img = cv.imread(SEO_PATH)\n",
    "copied = img.copy()\n",
    "\n",
    "# 그레이 스케일로 변환\n",
    "gray = cv.cvtColor(copied, cv.COLOR_BGR2GRAY)\n",
    "\n",
    "# 이진화\n",
    "ret, binary = cv.threshold(gray, -1, 255, cv.THRESH_BINARY | cv.THRESH_OTSU)\n",
    "\n",
    "# 윤곽선 찾기\n",
    "contours, hierachy = cv.findContours(binary, cv.RETR_EXTERNAL, cv.CHAIN_APPROX_NONE)\n",
    "\n",
    "# 윤곽선 그리기\n",
    "cv.drawContours(img, contours, -1, (0,255,0), 2)\n",
    "cv.imshow(\"contours\", img)\n",
    "\n",
    "cv.waitKey(0)\n",
    "cv.destroyAllWindows()"
   ]
  }
 ],
 "metadata": {
  "kernelspec": {
   "display_name": "cv_study",
   "language": "python",
   "name": "python3"
  },
  "language_info": {
   "codemirror_mode": {
    "name": "ipython",
    "version": 3
   },
   "file_extension": ".py",
   "mimetype": "text/x-python",
   "name": "python",
   "nbconvert_exporter": "python",
   "pygments_lexer": "ipython3",
   "version": "3.13.5"
  }
 },
 "nbformat": 4,
 "nbformat_minor": 5
}
