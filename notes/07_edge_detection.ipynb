{
 "cells": [
  {
   "cell_type": "markdown",
   "id": "945fd11e",
   "metadata": {},
   "source": [
    "## 07. 경계선 검출\n",
    "- 경계선(edge) : 이미지에서 색이 갑자기 바뀌는 지점을 연결한 것(경계)\n",
    "- `cv2.Canny(img, threshold1, threshold2)`\n",
    "    - `threshold1` : 약한 경계 임계값\n",
    "        - 엣지 강도가 이 값보다 작은 픽셀은 무조건 엣지가 아니라고 판단\n",
    "        - 즉, 밝기 변화가 너무 약한 부분은 엣지 후보에서 제외\n",
    "    - `threshold2` : 강한 경계 임계값\n",
    "        - 엣지 강도가 이 값보다 큰 픽셀은 확실한 엣지로 간주\n",
    "    - threshold1과 threshold2 사이의 값\n",
    "        - 엣지 강도가 이 범위에 속하는 픽셀은 약한 엣지(Weak Edge)로 간주\n",
    "        - 약한 엣지는 주변에 강한 엣지가 연결되어 있는 경우에만 엣지로 인정\n",
    "\n",
    "### 경계선 검출 과정\n",
    "1. 이미지를 그레이 스케일로 변환\n",
    "2. 블러 처리 등을 통해 노이즈를 제거\n",
    "3. Cany 알고리즘을 적용"
   ]
  },
  {
   "cell_type": "code",
   "execution_count": 2,
   "id": "1083a859",
   "metadata": {},
   "outputs": [],
   "source": [
    "import cv2 as cv\n",
    "\n",
    "MOUNTAIN_PATH = \"../images/mountain.jpg\""
   ]
  },
  {
   "cell_type": "markdown",
   "id": "d83ad061",
   "metadata": {},
   "source": [
    "### 7-1. 기본 구현"
   ]
  },
  {
   "cell_type": "code",
   "execution_count": 2,
   "id": "3e0db01a",
   "metadata": {},
   "outputs": [],
   "source": [
    "img = cv.imread(MOUNTAIN_PATH, cv.IMREAD_GRAYSCALE)\n",
    "canny = cv.Canny(img, 50, 150)\n",
    "\n",
    "cv.imshow(\"img\", img)\n",
    "cv.imshow(\"Canny\", canny)\n",
    "\n",
    "cv.waitKey(0)\n",
    "cv.destroyAllWindows()\n"
   ]
  },
  {
   "cell_type": "markdown",
   "id": "15bb2279",
   "metadata": {},
   "source": [
    "### 7-2. 트랙바를 이용한 구현"
   ]
  },
  {
   "cell_type": "code",
   "execution_count": 4,
   "id": "86bc74be",
   "metadata": {},
   "outputs": [],
   "source": [
    "img = cv.imread(MOUNTAIN_PATH, cv.IMREAD_GRAYSCALE)\n",
    "name = \"Canny\"\n",
    "cv.namedWindow(name)\n",
    "\n",
    "cv.createTrackbar(\"threshold1\", name, 50, 255, lambda x:x)\n",
    "cv.createTrackbar(\"threshold2\", name, 150, 255, lambda x:x)\n",
    "\n",
    "while True:\n",
    "    threshold1 = cv.getTrackbarPos(\"threshold1\", name)\n",
    "    threshold2 = cv.getTrackbarPos(\"threshold2\", name)\n",
    "\n",
    "    canny = cv.Canny(img, threshold1, threshold2)\n",
    "    cv.imshow(name, canny)\n",
    "    \n",
    "    if cv.waitKey(1) == ord(\"q\"):\n",
    "        break\n",
    "\n",
    "cv.destroyAllWindows()"
   ]
  },
  {
   "cell_type": "code",
   "execution_count": 11,
   "id": "1f9885b1",
   "metadata": {},
   "outputs": [],
   "source": [
    "# 실습. 캠 화면에 검출\n",
    "cap = cv.VideoCapture(0)\n",
    "name = \"Canny\"\n",
    "cv.namedWindow(name)\n",
    "\n",
    "cv.createTrackbar(\"threshold1\", name, 50, 255, lambda x: x)\n",
    "cv.createTrackbar(\"threshold2\", name, 150, 255, lambda x: x)\n",
    "\n",
    "while cap.isOpened():\n",
    "    ret, frame = cap.read()\n",
    "    \n",
    "    if not ret:\n",
    "        break\n",
    "    \n",
    "    threshold1 = cv.getTrackbarPos(\"threshold1\", name)\n",
    "    threshold2 = cv.getTrackbarPos(\"threshold2\", name)\n",
    "\n",
    "    gray = cv.cvtColor(frame, cv.COLOR_BGR2GRAY)\n",
    "    canny = cv.Canny(gray, threshold1, threshold2)\n",
    "    cv.imshow(name, canny)\n",
    "\n",
    "    if cv.waitKey(1) == ord(\"q\"):\n",
    "        break\n",
    "\n",
    "cv.destroyAllWindows()"
   ]
  },
  {
   "cell_type": "code",
   "execution_count": null,
   "id": "50e25cc9",
   "metadata": {},
   "outputs": [],
   "source": [
    "# 가우시안 블러 적용\n",
    "img = cv.imread(\"../images/seo.jpg\", cv.IMREAD_GRAYSCALE)\n",
    "blurred = cv.GaussianBlur(img, (5,5), 0)\n",
    "\n",
    "canny = cv.Canny(img, 50, 150)\n",
    "canny_blurred = cv.Canny(img, 50, 150)\n",
    "\n",
    "cv.imshow(\"img\", canny)\n",
    "cv.imshow(\"blurred\", canny_blurred)\n",
    "\n",
    "cv.waitKey(0)\n",
    "cv.destroyAllWindows()"
   ]
  }
 ],
 "metadata": {
  "kernelspec": {
   "display_name": "cv_study",
   "language": "python",
   "name": "python3"
  },
  "language_info": {
   "codemirror_mode": {
    "name": "ipython",
    "version": 3
   },
   "file_extension": ".py",
   "mimetype": "text/x-python",
   "name": "python",
   "nbconvert_exporter": "python",
   "pygments_lexer": "ipython3",
   "version": "3.13.5"
  }
 },
 "nbformat": 4,
 "nbformat_minor": 5
}
