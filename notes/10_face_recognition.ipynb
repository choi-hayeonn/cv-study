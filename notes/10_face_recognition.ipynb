{
 "cells": [
  {
   "cell_type": "markdown",
   "id": "2214240b",
   "metadata": {},
   "source": []
  },
  {
   "cell_type": "markdown",
   "id": "eac19fa7",
   "metadata": {},
   "source": [
    "## 10. 얼굴 인식(Hear Cascade)"
   ]
  },
  {
   "cell_type": "code",
   "execution_count": 22,
   "id": "25644f9d",
   "metadata": {},
   "outputs": [],
   "source": [
    "import cv2 as cv\n",
    "\n",
    "CHA = \"../images/cha.jpg\"\n",
    "SEO = \"../images/seo.jpg\"\n",
    "HARRY = \"../images/harry.jpg\"\n",
    "\n",
    "FACE_CASCADE = \"../cascade/haarcascade_frontalface_default.xml\"\n",
    "EYE_CASCADE = \"../cascade/haarcascade_eye.xml\""
   ]
  },
  {
   "cell_type": "code",
   "execution_count": 29,
   "id": "42d758b8",
   "metadata": {},
   "outputs": [],
   "source": [
    "# 얼굴 인식\n",
    "face_cascade = cv.CascadeClassifier(FACE_CASCADE)\n",
    "\n",
    "img = cv.imread(SEO)\n",
    "gray = cv.cvtColor(img, cv.COLOR_BGR2GRAY)\n",
    "\n",
    "faces = face_cascade.detectMultiScale(\n",
    "    gray, scaleFactor=1.1, minNeighbors=20, minSize=(10,10)\n",
    ")\n",
    "\n",
    "if len(faces):\n",
    "    for face in faces:\n",
    "        x, y, width, height = face\n",
    "        cv.rectangle(img, (x,y), (x+width, y+height), (0,255,0), 2, cv.LINE_AA)\n",
    "\n",
    "cv.imshow(\"img\", img)\n",
    "cv.waitKey(0)\n",
    "cv.destroyAllWindows()\n"
   ]
  },
  {
   "cell_type": "code",
   "execution_count": 39,
   "id": "b634681a",
   "metadata": {},
   "outputs": [],
   "source": [
    "# 눈 인식\n",
    "eye_cascade = cv.CascadeClassifier(EYE_CASCADE)\n",
    "\n",
    "img = cv.imread(CHA)\n",
    "gray = cv.cvtColor(img, cv.COLOR_BGR2GRAY)\n",
    "\n",
    "eyes = eye_cascade.detectMultiScale(\n",
    "    gray, scaleFactor=1.1, minNeighbors=2, maxSize=(20,20)\n",
    ")\n",
    "\n",
    "if len(eyes):\n",
    "    for eye in eyes:\n",
    "        x, y, width, height = eye\n",
    "        cv.rectangle(img, (x,y), (x+width, y+height), (255,0,0), 2, cv.LINE_AA)\n",
    "\n",
    "cv.imshow(\"img\", img)\n",
    "cv.waitKey(0)\n",
    "cv.destroyAllWindows()"
   ]
  }
 ],
 "metadata": {
  "kernelspec": {
   "display_name": "cv_study",
   "language": "python",
   "name": "python3"
  },
  "language_info": {
   "codemirror_mode": {
    "name": "ipython",
    "version": 3
   },
   "file_extension": ".py",
   "mimetype": "text/x-python",
   "name": "python",
   "nbconvert_exporter": "python",
   "pygments_lexer": "ipython3",
   "version": "3.13.5"
  }
 },
 "nbformat": 4,
 "nbformat_minor": 5
}
