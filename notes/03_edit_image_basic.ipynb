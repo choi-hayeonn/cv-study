{
 "cells": [
  {
   "cell_type": "markdown",
   "id": "230433cc",
   "metadata": {},
   "source": [
    "## 03. 이미지 기본 조작"
   ]
  },
  {
   "cell_type": "code",
   "execution_count": 2,
   "id": "473d700f",
   "metadata": {},
   "outputs": [],
   "source": [
    "import cv2 as cv\n",
    "import numpy as np\n",
    "PEACH_PATH = \"../images/peach.jpg\"\n",
    "CHA_PATH = \"../images/cha.jpg\"\n",
    "PEACH_VIDEO_PATH = \"../videos/peach.mp4\""
   ]
  },
  {
   "cell_type": "markdown",
   "id": "41e0f6bf",
   "metadata": {},
   "source": [
    "### 3-1. 빈 화면 만들기\n",
    "- NumPy 배열로 이미지를 출력할 수 있음\n",
    "- 데이터 타입을 unit8로 설정\n",
    "    - uint = unsigned integer → 부호가 없는 정수 = 0, 양수\n",
    "    - 0~255 까지 표현할 수 있는 수"
   ]
  },
  {
   "cell_type": "code",
   "execution_count": 4,
   "id": "408d7cb1",
   "metadata": {},
   "outputs": [],
   "source": [
    "# 검은 화면 만들기\n",
    "img = np.zeros((460, 640, 3), dtype = np.uint8)\n",
    "cv.imshow(\"Black\", img)\n",
    "cv.waitKey(0)\n",
    "cv.destroyAllWindows()"
   ]
  },
  {
   "cell_type": "markdown",
   "id": "c103fa88",
   "metadata": {},
   "source": [
    "### 3-2. 일부 영역 색칠"
   ]
  },
  {
   "cell_type": "code",
   "execution_count": null,
   "id": "1dbb92b3",
   "metadata": {},
   "outputs": [],
   "source": [
    "# 화면 일부 색칠하기\n",
    "img = np.zeros((460, 640, 3), dtype = np.uint8)\n",
    "img[50:300, 100:500] = (200, 250, 250)  # (B, G, R)\n",
    "cv.imshow(\"Color\", img)\n",
    "cv.waitKey(0)\n",
    "cv.destroyAllWindows()"
   ]
  },
  {
   "cell_type": "code",
   "execution_count": null,
   "id": "7f76d3c3",
   "metadata": {},
   "outputs": [],
   "source": [
    "# 이미지에 색칠하기\n",
    "img = cv.imread(PEACH_PATH)\n",
    "img[50:300, 100:500] = (200, 250, 250)   \n",
    "cv.imshow(\"PEACH\", img)\n",
    "cv.waitKey(0)\n",
    "cv.destroyAllWindows()"
   ]
  },
  {
   "cell_type": "code",
   "execution_count": 66,
   "id": "0b992d4b",
   "metadata": {},
   "outputs": [],
   "source": [
    "# 이미지 자르기\n",
    "img = cv.imread(PEACH_PATH)\n",
    "dst = cv.resize(img, (500, 600))\n",
    "\n",
    "crop = dst[10:100, 50:100]\n",
    "dst[0:90, 0:50] = crop\n",
    "\n",
    "cv.imshow(\"PEACH\", dst)\n",
    "# cv.imshow(\"CROP\", crop)\n",
    "\n",
    "cv.waitKey(0)\n",
    "cv.destroyAllWindows()"
   ]
  },
  {
   "cell_type": "markdown",
   "id": "881e01c8",
   "metadata": {},
   "source": [
    "### 3-3. 얕은 복사, 깊은 복사\n",
    "- 얕은 복사 (Shallow Copy)\n",
    "    - 원본 이미지와 복사본이 같은 메모리를 공유\n",
    "    - 복사본에서 이미지를 수정하면 원본도 함께 바뀜\n",
    "- 깊은 복사 (Deep Copy)\n",
    "    - 원본 이미지를 완전히 복사하여 별도의 메모리에 저장\n",
    "    - 복사본에서 이미지를 수정해도 원본에는 영향을 주지 않음"
   ]
  },
  {
   "cell_type": "code",
   "execution_count": 20,
   "id": "f2b33a4c",
   "metadata": {},
   "outputs": [],
   "source": [
    "img = np.zeros((460, 640, 3), dtype = np.uint8)\n",
    "\n",
    "# 얕은 복사\n",
    "shallow_copy = img[200:400, 200:400]\n",
    "shallow_copy[:] = (255,0,255)\n",
    "\n",
    "# 깊은 복사\n",
    "deep_copy = img[200:400, 200:400].copy()\n",
    "deep_copy[:] = (255,255,0)\n",
    "\n",
    "cv.imshow(\"original\", img)\n",
    "cv.imshow(\"shallow_copy\", shallow_copy)\n",
    "cv.imshow(\"deep_copy\", deep_copy)\n",
    "cv.waitKey(0)\n",
    "cv.destroyAllWindows()"
   ]
  },
  {
   "cell_type": "markdown",
   "id": "4ad45e27",
   "metadata": {},
   "source": [
    "### 3-4. 색상 변경\n",
    "- 'cv.cvtColor(img, code)'"
   ]
  },
  {
   "cell_type": "code",
   "execution_count": 26,
   "id": "e695da77",
   "metadata": {},
   "outputs": [],
   "source": [
    "img = cv.imread(PEACH_PATH)\n",
    "gray = cv.cvtColor(img, cv.COLOR_BGR2GRAY)\n",
    "rgb = cv.cvtColor(img, cv.COLOR_BGR2RGB)\n",
    "\n",
    "cv.imshow(\"img\", img)\n",
    "cv.imshow(\"gray\", gray)\n",
    "cv.imshow(\"rgb\", rgb)\n",
    "\n",
    "cv.waitKey(0)\n",
    "cv.destroyAllWindows()"
   ]
  },
  {
   "cell_type": "code",
   "execution_count": 27,
   "id": "b7dfc881",
   "metadata": {},
   "outputs": [],
   "source": [
    "# 색상 반전\n",
    "img = cv.imread(PEACH_PATH)\n",
    "gray = cv.cvtColor(img, cv.COLOR_BGR2GRAY)\n",
    "inverted = 255 - gray\n",
    "\n",
    "cv.imshow(\"gray\", gray)\n",
    "cv.imshow(\"inverted\", inverted)\n",
    "\n",
    "cv.waitKey(0)\n",
    "cv.destroyAllWindows()"
   ]
  },
  {
   "cell_type": "markdown",
   "id": "dc6a34ca",
   "metadata": {},
   "source": [
    "### 3-5. 이미지 채널 분리와 병합\n",
    "- 'cv2.split(img)' : 이미지 채널 분리\n",
    "- 'cv2.merge([b,g,r])' : 이미지 채널 병합"
   ]
  },
  {
   "cell_type": "code",
   "execution_count": 29,
   "id": "6727d54c",
   "metadata": {},
   "outputs": [],
   "source": [
    "img = cv.imread(PEACH_PATH)\n",
    "b, g, r = cv.split(img)\n",
    "\n",
    "cv.imshow(\"Blue\", b)\n",
    "cv.imshow(\"Green\", g)\n",
    "cv.imshow(\"Red\", r)\n",
    "\n",
    "merged = cv.merge([b, g, r])\n",
    "\n",
    "cv.imshow(\"Merged_Image\", merged)\n",
    "\n",
    "cv.waitKey(0)\n",
    "cv.destroyAllWindows()"
   ]
  },
  {
   "cell_type": "markdown",
   "id": "17b670a2",
   "metadata": {},
   "source": [
    "### 3-6. 이미지 리사이즈\n",
    "- 'cv2.resize(img, (size), fx, fy, interpolation)'\n",
    "    - (size) : 사이즈를 직접 입력할 경우\n",
    "    - fx, fy : 비율로 사이즈를 조정할 경우\n",
    "    - interpolation : 보간법"
   ]
  },
  {
   "cell_type": "code",
   "execution_count": 33,
   "id": "5223c828",
   "metadata": {},
   "outputs": [],
   "source": [
    "img = cv.imread(PEACH_PATH)\n",
    "# img.shape \n",
    "\n",
    "# dst = cv.resize(img, (6000, 4000))   # (가로, 세로)\n",
    "near = cv.resize(img, None, fx=3, fy=3, interpolation=cv.INTER_NEAREST)\n",
    "cubic = cv.resize(img, None, fx=3, fy=3, interpolation=cv.INTER_CUBIC)\n",
    "\n",
    "cv.imshow(\"original\", img)\n",
    "# cv.imshow(\"resized\", dst)\n",
    "cv.imshow(\"near\", near)\n",
    "cv.imshow(\"cubic\", cubic)\n",
    "\n",
    "cv.waitKey(0)\n",
    "cv.destroyAllWindows()"
   ]
  },
  {
   "cell_type": "code",
   "execution_count": null,
   "id": "568803b5",
   "metadata": {},
   "outputs": [],
   "source": [
    "# 실습5. 영상 리사이즈 해서 출력\n",
    "\n",
    "cap = cv.VideoCapture(PEACH_VIDEO_PATH)  \n",
    "fps = cap.get(cv.CAP_PROP_FPS)\n",
    "\n",
    "while cap.isOpened():\n",
    "    ret, frame = cap.read()\n",
    "    \n",
    "    if not ret:\n",
    "        break\n",
    "    \n",
    "    resized = cv.resize(frame, None, fx=1.5, fy=1.5)\n",
    "    \n",
    "    cv.imshow(\"original\", frame)\n",
    "    cv.imshow(\"Resized\", resized)\n",
    "    \n",
    "    if cv.waitKey(int(1000/fps)) == ord(\"q\"):\n",
    "        break\n",
    "\n",
    "cap.release()\n",
    "cv.destroyAllWindows()"
   ]
  },
  {
   "cell_type": "markdown",
   "id": "4cb0ff77",
   "metadata": {},
   "source": [
    "### 3-7. 이미지 피라미드\n",
    "- 고정된 비율로 이미지를 확대/축소\n",
    "- 단, 확대/축소 시 가우시안 블러처리를 통해 이미지를 부드럽게 변환\n",
    "- 'cv2.pyrUp(img)' : 이미지를 2배 키움\n",
    "- 'cv2.pyrDown(img)' : 이미지를 1/2로 줄임"
   ]
  },
  {
   "cell_type": "code",
   "execution_count": 50,
   "id": "81dff0ff",
   "metadata": {},
   "outputs": [],
   "source": [
    "img = cv.imread(PEACH_PATH)\n",
    "\n",
    "size_up = cv.pyrUp(img)\n",
    "size_down = cv.pyrDown(img)\n",
    "\n",
    "cv.imshow(\"original\", img)\n",
    "cv.imshow(\"Up\", size_up)\n",
    "cv.imshow(\"Down\", size_down)\n",
    "\n",
    "cv.waitKey(0)\n",
    "cv.destroyAllWindows()"
   ]
  },
  {
   "cell_type": "markdown",
   "id": "9e84f391",
   "metadata": {},
   "source": [
    "### 3-8. 이미지 대칭\n",
    "- 'cv2.flip(img, code)'\n",
    "    - code : 대칭의 방향을 결정\n",
    "        - code > 0 : y축 반전(좌우 반전) \n",
    "        - code == 0 : x축 반전(상하 반전) \n",
    "        - code < 0 : xy축 반전(상하좌우 반전) "
   ]
  },
  {
   "cell_type": "code",
   "execution_count": 63,
   "id": "2dc6640b",
   "metadata": {},
   "outputs": [],
   "source": [
    "img_org = cv.imread(PEACH_PATH)\n",
    "img = cv.resize(img_org, (500, 600))\n",
    "\n",
    "flip_y = cv.flip(img, 1)\n",
    "flip_x = cv.flip(img, 0)\n",
    "flip_xy = cv.flip(img, -1)\n",
    "\n",
    "cv.imshow(\"original\", img)\n",
    "cv.imshow(\"Flip_y\", flip_y)\n",
    "cv.imshow(\"Flip_x\", flip_x)\n",
    "cv.imshow(\"Flip_xy\", flip_xy)\n",
    "\n",
    "\n",
    "cv.waitKey(0)\n",
    "cv.destroyAllWindows()"
   ]
  },
  {
   "cell_type": "code",
   "execution_count": 9,
   "id": "2c16cb83",
   "metadata": {},
   "outputs": [],
   "source": [
    "# 실습6. 이미지 조정\n",
    "img = cv.imread(CHA_PATH)\n",
    "img_copy = img.copy()  \n",
    "\n",
    "size_down = cv.pyrDown(img)\n",
    "flip_y = cv.flip(img, 1)\n",
    "\n",
    "cv.imshow(\"Down\", size_down)\n",
    "\n",
    "height, width = img_copy.shape[:2]\n",
    "\n",
    "flip_height, flip_width = flip_y.shape[:2]\n",
    "\n",
    "crop_height = 300\n",
    "crop_width = 200\n",
    "\n",
    "start_y = height - crop_height\n",
    "start_x = width - crop_width\n",
    "end_y = height\n",
    "end_x = width\n",
    "\n",
    "img_copy[start_y:end_y, start_x:end_x] = flip_y[start_y:end_y, start_x:end_x]\n",
    "\n",
    "\n",
    "flip_small = cv.resize(flip_y, (300, 200))  \n",
    "small_h, small_w = flip_small.shape[:2]\n",
    "\n",
    "img_copy[height-small_h:height, width-small_w:width] = flip_small\n",
    "cv.imshow(\"CHA\", img_copy)\n",
    "\n",
    "cv.waitKey(0)\n",
    "cv.destroyAllWindows()"
   ]
  },
  {
   "cell_type": "code",
   "execution_count": null,
   "id": "71989cfa",
   "metadata": {},
   "outputs": [
    {
     "ename": "ValueError",
     "evalue": "could not broadcast input array from shape (475,631,3) into shape (238,316,3)",
     "output_type": "error",
     "traceback": [
      "\u001b[31m---------------------------------------------------------------------------\u001b[39m",
      "\u001b[31mValueError\u001b[39m                                Traceback (most recent call last)",
      "\u001b[36mCell\u001b[39m\u001b[36m \u001b[39m\u001b[32mIn[12]\u001b[39m\u001b[32m, line 12\u001b[39m\n\u001b[32m      8\u001b[39m dst = cv.flip(img, \u001b[32m1\u001b[39m)\n\u001b[32m     10\u001b[39m height, width, channel = img.shape\n\u001b[32m---> \u001b[39m\u001b[32m12\u001b[39m \u001b[43mcopied\u001b[49m\u001b[43m[\u001b[49m\u001b[38;5;28;43mint\u001b[39;49m\u001b[43m(\u001b[49m\u001b[43mheight\u001b[49m\u001b[43m/\u001b[49m\u001b[32;43m2\u001b[39;49m\u001b[43m)\u001b[49m\u001b[43m:\u001b[49m\u001b[43m \u001b[49m\u001b[43m,\u001b[49m\u001b[43m \u001b[49m\u001b[38;5;28;43mint\u001b[39;49m\u001b[43m(\u001b[49m\u001b[43mwidth\u001b[49m\u001b[43m/\u001b[49m\u001b[32;43m2\u001b[39;49m\u001b[43m)\u001b[49m\u001b[43m:\u001b[49m\u001b[43m \u001b[49m\u001b[43m]\u001b[49m = dst\n\u001b[32m     14\u001b[39m cv.show(\u001b[33m\"\u001b[39m\u001b[33mimg\u001b[39m\u001b[33m\"\u001b[39m, copied)\n\u001b[32m     16\u001b[39m cv.waitKey(\u001b[32m0\u001b[39m)\n",
      "\u001b[31mValueError\u001b[39m: could not broadcast input array from shape (475,631,3) into shape (238,316,3)"
     ]
    }
   ],
   "source": [
    "# 실습6. 이미지 조정\n",
    "img = cv.imread(CHA_PATH)\n",
    "copied = img.copy()  \n",
    "\n",
    "# 이미지를 1/2로 축소\n",
    "# dst = cv.pyrDown(img)\n",
    "dst = cv.resize(img, None, fx=0.5, fy=0.5)\n",
    "dst = cv.flip(img, 1)\n",
    "\n",
    "height, width, channel = img.shape\n",
    "\n",
    "copied[:int(height/2): , int(width/2): ] = dst\n",
    "\n",
    "cv.show(\"img\", copied)\n",
    "\n",
    "cv.waitKey(0)\n",
    "cv.destroyAllWindows()"
   ]
  }
 ],
 "metadata": {
  "kernelspec": {
   "display_name": "cv_study",
   "language": "python",
   "name": "python3"
  },
  "language_info": {
   "codemirror_mode": {
    "name": "ipython",
    "version": 3
   },
   "file_extension": ".py",
   "mimetype": "text/x-python",
   "name": "python",
   "nbconvert_exporter": "python",
   "pygments_lexer": "ipython3",
   "version": "3.13.5"
  }
 },
 "nbformat": 4,
 "nbformat_minor": 5
}
