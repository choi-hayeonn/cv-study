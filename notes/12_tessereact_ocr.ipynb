{
 "cells": [
  {
   "cell_type": "markdown",
   "id": "1194c7e3",
   "metadata": {},
   "source": [
    "## 12. tesseract-ocr"
   ]
  },
  {
   "cell_type": "code",
   "execution_count": 2,
   "id": "56024327",
   "metadata": {},
   "outputs": [],
   "source": [
    "import cv2 as cv\n",
    "from pytesseract import pytesseract as pyt\n",
    "pyt.tesseract_cmd = r\"C:\\Program Files\\Tesseract-ocr\\tesseract.exe\"\n",
    "import numpy as np"
   ]
  },
  {
   "cell_type": "code",
   "execution_count": 2,
   "id": "1a7dcc22",
   "metadata": {},
   "outputs": [
    {
     "name": "stdout",
     "output_type": "stream",
     "text": [
      "여 스 즈\n",
      "OTS\n",
      "\n",
      "영 수 증 번 모 :230522-0103-0142-01\n",
      "삼 호 : 메 이 크 커 피\n",
      "220~09-33826 ㅠ ㄴ )010-4288-9949 _ 물 진 멈\n",
      "주 소 : 서 물 특 별 시 강 남 구 강 남 대 로 94 길 27 (Saree)\n",
      "] 즘\n",
      "테 이 불 번 모 : KIOSK 주 문 담 담 자 : 관 리 자\n",
      "계 산 일 자 :2023-05-22 시 간 :13:45:06\n",
      "\n",
      "[ 카 드 번 모 ] 35651604 째 세 634*\n",
      "[ 활 부 개 월 ] 0\n",
      "\n",
      "[ 카 드 사 명 ] NATE\n",
      "\n",
      "[ 숨 인 번 모 ] 51423660\n",
      "\n",
      "(a 제 금 맥 ] 4,200\n",
      "\n",
      "\n"
     ]
    }
   ],
   "source": [
    "img = cv.imread(\"../images/bill.png\", cv.IMREAD_GRAYSCALE)\n",
    "ret, binary = cv.threshold(img, -1, 255, cv.THRESH_BINARY | cv.THRESH_OTSU)\n",
    "\n",
    "text = pyt.image_to_string(binary, lang=\"kor+eng\")\n",
    "\n",
    "print(text)"
   ]
  },
  {
   "cell_type": "code",
   "execution_count": 15,
   "id": "9c9f71fa",
   "metadata": {},
   "outputs": [
    {
     "name": "stdout",
     "output_type": "stream",
     "text": [
      "정 지\n",
      "STOP\n",
      "\n"
     ]
    }
   ],
   "source": [
    "# 실습. 이미지에서 글자 인식 (반자동 스캐너 + tesseract)\n",
    "img = cv.imread('../images/stop.png')\n",
    "\n",
    "name = \"Scanner\"\n",
    "point_list = []\n",
    "\n",
    "def show_result():\n",
    "    width = int(np.linalg.norm(np.array(point_list[0]) - np.array(point_list[1])))\n",
    "    height = int(np.linalg.norm(np.array(point_list[0]) - np.array(point_list[3])))\n",
    "    \n",
    "    src = np.array(point_list, dtype=np.float32)\n",
    "    dst = np.array([[0,0], [width, 0], [width, height], [0, height]], dtype=np.float32)\n",
    "    mat = cv.getPerspectiveTransform(src, dst)\n",
    "    result = cv.warpPerspective(img, mat, (width, height))\n",
    "\n",
    "    gray = cv.cvtColor(result, cv.COLOR_BGR2GRAY)\n",
    "    _, binary = cv.threshold(gray, -1, 255, cv.THRESH_BINARY | cv.THRESH_OTSU)\n",
    "    text = pyt.image_to_string(binary, lang=\"kor+eng\")\n",
    "    print(text)\n",
    "\n",
    "    cv.imshow(\"Cropped\", result)\n",
    "\n",
    "drawing = False\n",
    "\n",
    "def on_mouse(event, x, y, flags, _):\n",
    "    global drawing\n",
    "    copied = img.copy()\n",
    "    if event == cv.EVENT_LBUTTONDOWN:\n",
    "        drawing = True\n",
    "        point = (x,y)\n",
    "        point_list.append(point)\n",
    "    \n",
    "    if drawing:\n",
    "        prev_point = None\n",
    "        for p in point_list:\n",
    "            cv.circle(copied, p, 10, (0,255,255), cv.FILLED)\n",
    "            if prev_point:\n",
    "                cv.line(copied, prev_point, p, (0,255,255), 5)\n",
    "            prev_point = p\n",
    "        \n",
    "        next_point = (x,y)\n",
    "        if len(point_list) == 4:\n",
    "            next_point = point_list[0]\n",
    "            show_result()\n",
    "            drawing = False\n",
    "        cv.line(copied, point_list[-1], next_point, (0,255,255),5)\n",
    "    \n",
    "    cv.imshow(name, copied)\n",
    "\n",
    "cv.namedWindow(name)\n",
    "cv.setMouseCallback(name, on_mouse)\n",
    "cv.imshow(name, img)\n",
    "cv.waitKey(0)\n",
    "cv.destroyAllWindows()"
   ]
  }
 ],
 "metadata": {
  "kernelspec": {
   "display_name": "cv_study",
   "language": "python",
   "name": "python3"
  },
  "language_info": {
   "codemirror_mode": {
    "name": "ipython",
    "version": 3
   },
   "file_extension": ".py",
   "mimetype": "text/x-python",
   "name": "python",
   "nbconvert_exporter": "python",
   "pygments_lexer": "ipython3",
   "version": "3.13.5"
  }
 },
 "nbformat": 4,
 "nbformat_minor": 5
}
