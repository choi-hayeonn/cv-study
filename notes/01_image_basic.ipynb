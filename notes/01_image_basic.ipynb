{
 "cells": [
  {
   "cell_type": "markdown",
   "id": "53361d85",
   "metadata": {},
   "source": [
    "## 01. 이미지 입력·출력·쓰기"
   ]
  },
  {
   "cell_type": "code",
   "execution_count": 2,
   "id": "70685ccd",
   "metadata": {},
   "outputs": [],
   "source": [
    "import cv2 as cv\n",
    "PEACH_PATH = \"../images/peach.jpg\""
   ]
  },
  {
   "cell_type": "markdown",
   "id": "ee2e0e31",
   "metadata": {},
   "source": [
    "### 1-1. 이미지 입출력\n",
    "- 'imread(path)' : 이미지 입력\n",
    "- 'imshow(winame, img)' : 이미지 출력\n",
    "- 'waitKey(ms)' : ms초 만큼 키 입력을 기다림, 0의 경우 무한 대기\n",
    "- 'destroyAllWindows()' : 열려 있는 모든 창을 종료"
   ]
  },
  {
   "cell_type": "code",
   "execution_count": null,
   "id": "507f86cd",
   "metadata": {},
   "outputs": [
    {
     "name": "stdout",
     "output_type": "stream",
     "text": [
      "[[[155 170 189]\n",
      "  [158 172 194]\n",
      "  [168 180 208]\n",
      "  ...\n",
      "  [159 167 190]\n",
      "  [162 170 193]\n",
      "  [173 181 204]]\n",
      "\n",
      " [[157 171 189]\n",
      "  [155 169 191]\n",
      "  [163 176 202]\n",
      "  ...\n",
      "  [211 219 242]\n",
      "  [189 197 220]\n",
      "  [184 192 215]]\n",
      "\n",
      " [[171 184 200]\n",
      "  [160 174 192]\n",
      "  [161 173 197]\n",
      "  ...\n",
      "  [240 248 255]\n",
      "  [212 220 243]\n",
      "  [207 215 238]]\n",
      "\n",
      " ...\n",
      "\n",
      " [[123 136 158]\n",
      "  [124 137 159]\n",
      "  [123 136 158]\n",
      "  ...\n",
      "  [ 42  57  89]\n",
      "  [ 39  54  86]\n",
      "  [ 40  55  87]]\n",
      "\n",
      " [[118 131 153]\n",
      "  [120 133 155]\n",
      "  [120 133 155]\n",
      "  ...\n",
      "  [ 45  60  92]\n",
      "  [ 43  58  90]\n",
      "  [ 46  61  93]]\n",
      "\n",
      " [[115 128 150]\n",
      "  [118 131 153]\n",
      "  [120 133 155]\n",
      "  ...\n",
      "  [ 36  49  81]\n",
      "  [ 36  49  81]\n",
      "  [ 36  49  81]]]\n"
     ]
    }
   ],
   "source": [
    "img = cv.imread(PEACH_PATH)\n",
    "# print(img)\n",
    "\n",
    "cv.imshow(\"PEACH\", img)\n",
    "\n",
    "key = cv.waitKey(0) # 0 - 무한대기\n",
    "print(key)\n",
    "\n",
    "cv.destroyAllWindows()"
   ]
  }
 ],
 "metadata": {
  "kernelspec": {
   "display_name": "cv_study",
   "language": "python",
   "name": "python3"
  },
  "language_info": {
   "codemirror_mode": {
    "name": "ipython",
    "version": 3
   },
   "file_extension": ".py",
   "mimetype": "text/x-python",
   "name": "python",
   "nbconvert_exporter": "python",
   "pygments_lexer": "ipython3",
   "version": "3.13.5"
  }
 },
 "nbformat": 4,
 "nbformat_minor": 5
}
