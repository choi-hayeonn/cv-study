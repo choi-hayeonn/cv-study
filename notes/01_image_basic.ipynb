{
 "cells": [
  {
   "cell_type": "markdown",
   "id": "53361d85",
   "metadata": {},
   "source": [
    "## 01. 이미지 입력·출력·쓰기"
   ]
  },
  {
   "cell_type": "code",
   "execution_count": null,
   "id": "70685ccd",
   "metadata": {},
   "outputs": [],
   "source": [
    "import cv2 as cv\n",
    "PEACH_PATH = \"../images/peach.jpg\"\n",
    "DOG_PNG_PATH = \"../images/dog_png.png\""
   ]
  },
  {
   "cell_type": "markdown",
   "id": "ee2e0e31",
   "metadata": {},
   "source": [
    "### 1-1. 이미지 입출력\n",
    "- 'imread(path)' : 이미지 입력\n",
    "- 'imshow(winame, img)' : 이미지 출력\n",
    "- 'waitKey(ms)' : ms초 만큼 키 입력을 기다림, 0의 경우 무한 대기\n",
    "- 'destroyAllWindows()' : 열려 있는 모든 창을 종료"
   ]
  },
  {
   "cell_type": "code",
   "execution_count": null,
   "id": "507f86cd",
   "metadata": {},
   "outputs": [],
   "source": [
    "img = cv.imread(PEACH_PATH)\n",
    "# print(img)\n",
    "\n",
    "cv.imshow(\"PEACH\", img)\n",
    "\n",
    "key = cv.waitKey(5000) # 0 - 무한대기, 다른 숫자 - 일정 시간 동안만 창을 띄운다.\n",
    "# print(chr(key))   특정한 key를 입력했을 때, 창 닫기\n",
    "\n",
    "cv.destroyAllWindows()"
   ]
  },
  {
   "cell_type": "markdown",
   "id": "74717693",
   "metadata": {},
   "source": [
    "### 1-2. 이미지 불러오기 옵션\n",
    "- 'cv2.IMREAD_COLOR' : 이미지를 컬러로 불러옴(기본값), 투명배경 무시\n",
    "- 'cv2.IMREAD_GRAYSCALE' : 이미지를 흑백으로\n",
    "- 'cv2.IMREAD_UNCHANGED' : 이미지를 컬러로, 투명배경 인식(alpha 값 포함)\n",
    "    - alpha 값 : 이미지의 투명도 정보를 제공"
   ]
  },
  {
   "cell_type": "code",
   "execution_count": 8,
   "id": "4f9f926f",
   "metadata": {},
   "outputs": [],
   "source": [
    "img_default = cv.imread(DOG_PNG_PATH, cv.IMREAD_COLOR)\n",
    "img_gray = cv.imread(DOG_PNG_PATH, cv.IMREAD_GRAYSCALE)\n",
    "img_unchanged = cv.imread(DOG_PNG_PATH, cv.IMREAD_UNCHANGED)\n",
    "\n",
    "# print(img_gray)\n",
    "# print(img_unchanged)\n",
    "cv.imshow(\"Default\", img_default)\n",
    "cv.imshow(\"Grayscale\", img_gray)\n",
    "cv.imshow(\"Unchanged\", img_unchanged)\n",
    "\n",
    "cv.waitKey(0)\n",
    "cv.destroyAllWindows()"
   ]
  },
  {
   "cell_type": "markdown",
   "id": "c9e88c7e",
   "metadata": {},
   "source": [
    "### 1-3. 이미지 Shape\n",
    "- 이미지의 구조를 출력해줌\n",
    "- 세로, 가로, 채널 출력"
   ]
  },
  {
   "cell_type": "code",
   "execution_count": 9,
   "id": "147a86f1",
   "metadata": {},
   "outputs": [
    {
     "name": "stdout",
     "output_type": "stream",
     "text": [
      "Default shape (476, 320, 3)\n",
      "Gray shape (476, 320)\n",
      "Unchanged shape (476, 320, 4)\n"
     ]
    }
   ],
   "source": [
    "img_default = cv.imread(DOG_PNG_PATH, cv.IMREAD_COLOR)\n",
    "img_gray = cv.imread(DOG_PNG_PATH, cv.IMREAD_GRAYSCALE)\n",
    "img_unchanged = cv.imread(DOG_PNG_PATH, cv.IMREAD_UNCHANGED)\n",
    "\n",
    "print(\"Default shape\", img_default.shape)\n",
    "print(\"Gray shape\", img_gray.shape)\n",
    "print(\"Unchanged shape\", img_unchanged.shape)"
   ]
  },
  {
   "cell_type": "markdown",
   "id": "725bb321",
   "metadata": {},
   "source": [
    "### 1-4. 이미지 쓰기\n",
    "- 'imwrite(path, img)' : 불러온 이미지를 파일로 생성"
   ]
  },
  {
   "cell_type": "code",
   "execution_count": 10,
   "id": "e9070bc7",
   "metadata": {},
   "outputs": [
    {
     "data": {
      "text/plain": [
       "True"
      ]
     },
     "execution_count": 10,
     "metadata": {},
     "output_type": "execute_result"
    }
   ],
   "source": [
    "img = cv.imread(DOG_PNG_PATH)\n",
    "cv.imwrite(\"../output/dog_copy.jpg\", img)"
   ]
  },
  {
   "cell_type": "code",
   "execution_count": 19,
   "id": "549da8bd",
   "metadata": {},
   "outputs": [],
   "source": [
    "# 실습1. 원하는 이미지 띄우기\n",
    "APRICOT_PATH = \"../images/apricot.jpg\"\n",
    "\n",
    "img_default = cv.imread(APRICOT_PATH, cv.IMREAD_COLOR)\n",
    "img_gray = cv.imread(APRICOT_PATH, cv.IMREAD_GRAYSCALE)\n",
    "\n",
    "# print(img_gray)\n",
    "# print(img_unchanged)\n",
    "cv.imshow(\"Default\", img_default)\n",
    "cv.imshow(\"Grayscale\", img_gray)\n",
    "\n",
    "cv.waitKey(0)\n",
    "cv.destroyAllWindows()"
   ]
  }
 ],
 "metadata": {
  "kernelspec": {
   "display_name": "cv_study",
   "language": "python",
   "name": "python3"
  },
  "language_info": {
   "codemirror_mode": {
    "name": "ipython",
    "version": 3
   },
   "file_extension": ".py",
   "mimetype": "text/x-python",
   "name": "python",
   "nbconvert_exporter": "python",
   "pygments_lexer": "ipython3",
   "version": "3.13.5"
  }
 },
 "nbformat": 4,
 "nbformat_minor": 5
}
