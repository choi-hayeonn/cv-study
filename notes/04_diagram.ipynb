{
 "cells": [
  {
   "cell_type": "markdown",
   "id": "68d2d926",
   "metadata": {},
   "source": [
    "## 04. 도형 그리기"
   ]
  },
  {
   "cell_type": "code",
   "execution_count": 2,
   "id": "8a5edd83",
   "metadata": {},
   "outputs": [],
   "source": [
    "import cv2 as cv\n",
    "import numpy as np"
   ]
  },
  {
   "cell_type": "markdown",
   "id": "05cf9c84",
   "metadata": {},
   "source": [
    "### 4-1. 선 그리기\n",
    "- 'cv.line(img, start, end, color, tickness, lineType)'\n",
    "- cv2.LINE_4 : 상하좌우 4방향으로 연결된 선\n",
    "    - 점을 중심으로 4픽셀\n",
    "- cv2.LINE_8 : 대각선을 포함한 8 방향 연결된 선 (기본값)\n",
    "    - 점을 중심으로 8픽셀\n",
    "- cv2.LINE_AA : 부드러운 선(anti-aliasing 적용)\n",
    "    - AA : Anti-Alias\n",
    "    \n",
    "###### 🔎 Anti-aliasing : 이미지나 그래픽에서 계단 현상을 줄이기 위해 경계선을 부드럽게 처리하는 기법 ➡ 픽셀 경계에서 원래 색과 배경색을 섞어 중간 색(흔히 회색 계열)을 채워 넣음"
   ]
  },
  {
   "cell_type": "code",
   "execution_count": null,
   "id": "45335229",
   "metadata": {},
   "outputs": [],
   "source": [
    "img = np.zeros((460, 640, 3), dtype = np.uint8)\n",
    "\n",
    "COLOR =  (200, 200, 250)\n",
    "THICKNESS = 5\n",
    "\n",
    "cv.line(img, (100, 100), (300, 300), COLOR, THICKNESS, cv.LINE_4)\n",
    "cv.line(img, (150, 100), (350, 300), COLOR, THICKNESS, cv.LINE_8)\n",
    "cv.line(img, (200, 100), (400, 300), COLOR, THICKNESS, cv.LINE_AA)\n",
    "\n",
    "cv.imshow(\"line\", img)\n",
    "\n",
    "cv.waitKey(0)\n",
    "cv.destroyAllWindows()"
   ]
  },
  {
   "cell_type": "markdown",
   "id": "f484f6af",
   "metadata": {},
   "source": [
    "### 4-2. 원그리기\n",
    "- 'cv2.circle(img, center, radius, color, thickness, lineType)'\n",
    "- 'cv2.FILLED' : 도형의 속을 채우는 옵션"
   ]
  },
  {
   "cell_type": "code",
   "execution_count": null,
   "id": "8faeeaf6",
   "metadata": {},
   "outputs": [],
   "source": [
    "img = np.zeros((460, 640, 3), dtype = np.uint8)\n",
    "\n",
    "RADIUS = 50\n",
    "COLOR = (200, 200, 250)\n",
    "THICKNESS = 10\n",
    "\n",
    "# 속이 비어있는 원\n",
    "cv.circle(img, (200,200), RADIUS, COLOR, THICKNESS, cv.LINE_AA)\n",
    "\n",
    "# 속이 찬 원\n",
    "cv.circle(img, (400,200), RADIUS, COLOR, cv.FILLED, cv.LINE_AA)\n",
    "\n",
    "cv.imshow(\"CIRCLE\", img)\n",
    "\n",
    "cv.waitKey(0)\n",
    "cv.destroyAllWindows()"
   ]
  },
  {
   "cell_type": "markdown",
   "id": "91a0f5e9",
   "metadata": {},
   "source": [
    "### 4-3. 타원 그리기\n",
    "- 'cv2.ellipse(img, center, axes, angle, startAngle, endAngle, color, thickness, lineType)'\n"
   ]
  },
  {
   "cell_type": "code",
   "execution_count": 13,
   "id": "9c1841e9",
   "metadata": {},
   "outputs": [],
   "source": [
    "img = np.zeros((460, 640, 3), dtype = np.uint8)\n",
    "\n",
    "cv.ellipse(img, (320, 230), (100, 50), 30, 0, 270, (200, 200, 250), 5, cv.LINE_AA)\n",
    "\n",
    "cv.imshow(\"Ellipse\", img)\n",
    "\n",
    "cv.waitKey(0)\n",
    "cv.destroyAllWindows()"
   ]
  },
  {
   "cell_type": "markdown",
   "id": "97fc6e18",
   "metadata": {},
   "source": [
    "### 4-4. 사각형 그리기\n",
    "- 'cv2.rectangle(img, start, end, color, thickness, lineType)'"
   ]
  },
  {
   "cell_type": "code",
   "execution_count": null,
   "id": "7e5579d4",
   "metadata": {},
   "outputs": [],
   "source": [
    "img = np.zeros((460, 640, 3), dtype = np.uint8)\n",
    "\n",
    "COLOR = (200, 200, 250)\n",
    "THICKNESS = 5\n",
    "\n",
    "# 속이 비어있는 사각형\n",
    "cv.rectangle(img, (150, 100), (250, 200), COLOR, THICKNESS, cv.LINE_AA)\n",
    "# 속이 빈 사각형\n",
    "cv.rectangle(img, (300, 100), (400, 200), COLOR, cv.FILLED, cv.LINE_AA)\n",
    "\n",
    "cv.imshow(\"Rectangle\", img)\n",
    "\n",
    "cv.waitKey(0)\n",
    "cv.destroyAllWindows()"
   ]
  },
  {
   "cell_type": "markdown",
   "id": "c92b351c",
   "metadata": {},
   "source": [
    "### 4-5. 다각형(선) 그리기\n",
    "- 'cv2.polylines(img, pts, isClosed, color, thickness, lineType)'\n",
    "    - pts : 다각형 선분의 배열\n",
    "    - isClosed : 다각형을 닫을지를 결정"
   ]
  },
  {
   "cell_type": "code",
   "execution_count": null,
   "id": "1e48f59d",
   "metadata": {},
   "outputs": [],
   "source": [
    "img = np.zeros((460, 640, 3), dtype = np.uint8)\n",
    "\n",
    "pts = np.array([[[100,100], [200,100], [100,200]]])\n",
    "\n",
    "cv.polylines(img, pts, True, (200, 200, 250), 5)\n",
    "\n",
    "cv.imshow(\"Polylines\", img)\n",
    "\n",
    "cv.waitKey(0)\n",
    "cv.destroyAllWindows()"
   ]
  },
  {
   "cell_type": "markdown",
   "id": "7d336a86",
   "metadata": {},
   "source": [
    "### 4-6. 다각형 (채우기) 그리기\n",
    "- 'cv2.fillPoly(img, pts, color)'"
   ]
  },
  {
   "cell_type": "code",
   "execution_count": null,
   "id": "2e0ab2e2",
   "metadata": {},
   "outputs": [],
   "source": [
    "img = np.zeros((460, 640, 3), dtype = np.uint8)\n",
    "\n",
    "pts = np.array([[[200,200], [300,100], [200,300]]])\n",
    "\n",
    "cv.fillPoly(img, pts, (200, 200, 250))\n",
    "\n",
    "cv.imshow(\"Fillpoly\", img)\n",
    "\n",
    "cv.waitKey(0)\n",
    "cv.destroyAllWindows()\n"
   ]
  },
  {
   "cell_type": "code",
   "execution_count": 28,
   "id": "40f7c7f1",
   "metadata": {},
   "outputs": [],
   "source": [
    "# 실습1. 도형 그려보기\n",
    "img = np.zeros((460, 640, 3), dtype=np.uint8)\n",
    "\n",
    "# 선\n",
    "cv.line(img, (50, 50), (200, 150), (200, 237, 190), 8, cv.LINE_AA)\n",
    "\n",
    "# 원(선) \n",
    "cv.circle(img, (120, 80), 40, (190, 202, 237), 4, cv.LINE_AA)\n",
    "\n",
    "# 원(채우기) \n",
    "cv.circle(img, (300, 80), 40, (190, 217, 237), cv.FILLED, cv.LINE_AA)\n",
    "\n",
    "# 사각형(선) \n",
    "cv.rectangle(img, (80, 180), (180, 250), (237, 205, 190), 4, cv.LINE_AA)\n",
    "\n",
    "# 사각형(채우기)\n",
    "cv.rectangle(img, (250, 180), (350, 250), (190, 237, 236), cv.FILLED, cv.LINE_AA)\n",
    "\n",
    "# 타원(채우기)\n",
    "cv.ellipse(img, (320, 320), (90, 45), 30, 0, 360, (237, 190, 221), cv.FILLED, cv.LINE_AA)\n",
    "\n",
    "# 타원(선)\n",
    "cv.ellipse(img, (320, 320), (90, 45), 30, 0, 270, (221, 237, 190), 4, cv.LINE_AA)\n",
    "\n",
    "# 삼각형(선)\n",
    "pts1 = np.array([[[100, 380], [150, 350], [150, 410]]])\n",
    "cv.polylines(img, pts1, True, (191, 237, 190), 4)\n",
    "\n",
    "# 다각형(채우기)\n",
    "pts2 = np.array([[[250, 380], [300, 350], [300, 410]]])\n",
    "cv.fillPoly(img, pts2, (190, 190, 237))\n",
    "\n",
    "# 다각형(선)\n",
    "pts3 = np.array([[[450, 350], [480, 370], [470, 400], [430, 400], [420, 370]]])\n",
    "cv.polylines(img, pts3, True, (237, 191, 190), 3)\n",
    "\n",
    "\n",
    "cv.imshow(\"Practice\", img)\n",
    "\n",
    "cv.waitKey(0)\n",
    "cv.destroyAllWindows()"
   ]
  },
  {
   "cell_type": "markdown",
   "id": "7c0ae988",
   "metadata": {},
   "source": [
    "### 4-7. 텍스트 그리기(영어)\n",
    "- 'cv2.putText(img, text, position, font, scale, color, thickness)'"
   ]
  },
  {
   "cell_type": "code",
   "execution_count": null,
   "id": "7cd6a23a",
   "metadata": {},
   "outputs": [],
   "source": [
    "img = np.zeros((460, 640, 3), dtype = np.uint8)\n",
    "\n",
    "SCALE = 1\n",
    "COLOR = (255, 255, 255)\n",
    "THICKNESS =2\n",
    "\n",
    "cv.putText(img, \"To be, or not to be\", (100,100), cv.FONT_HERSHEY_COMPLEX, SCALE, COLOR, THICKNESS)\n",
    "cv.putText(img, \"William Shakespeare\", (100,200), cv.FONT_HERSHEY_PLAIN | cv.FONT_ITALIC, SCALE, COLOR, THICKNESS)\n",
    "\n",
    "cv.imshow(\"Text(eng)\", img)\n",
    "\n",
    "cv.waitKey(0)\n",
    "cv.destroyAllWindows()"
   ]
  },
  {
   "cell_type": "markdown",
   "id": "7c798215",
   "metadata": {},
   "source": [
    "### 4-8. 텍스트 그리기(한글)\n",
    "- OpenCV에서는 한글 텍스트 그리기 지원 x → 우회적 방법 사용"
   ]
  },
  {
   "cell_type": "code",
   "execution_count": 10,
   "id": "7248f5b7",
   "metadata": {},
   "outputs": [],
   "source": [
    "from PIL import Image, ImageDraw, ImageFont \n",
    "\n",
    "img = np.zeros((460, 640, 3), dtype = np.uint8)\n",
    "\n",
    "def putKorText(img, text, pos, font_size, font_color):\n",
    "    img_pil = Image.fromarray(img)\n",
    "    draw = ImageDraw.Draw(img_pil)\n",
    "    font = ImageFont.truetype(\"fonts/gulim.ttc\", font_size)\n",
    "    draw.text(pos, text, font=font, fill=font_color)\n",
    "    return np.array(img_pil)\n",
    "\n",
    "text = putKorText(img, \"여름\", (200, 200), 30, (255,255,255))\n",
    "\n",
    "cv.imshow(\"Text(kor)\", text)\n",
    "cv.waitKey(0)\n",
    "cv.destroyAllWindows()\n"
   ]
  }
 ],
 "metadata": {
  "kernelspec": {
   "display_name": "cv_study",
   "language": "python",
   "name": "python3"
  },
  "language_info": {
   "codemirror_mode": {
    "name": "ipython",
    "version": 3
   },
   "file_extension": ".py",
   "mimetype": "text/x-python",
   "name": "python",
   "nbconvert_exporter": "python",
   "pygments_lexer": "ipython3",
   "version": "3.13.5"
  }
 },
 "nbformat": 4,
 "nbformat_minor": 5
}
